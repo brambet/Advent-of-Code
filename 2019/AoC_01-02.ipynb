{
 "cells": [
  {
   "cell_type": "code",
   "execution_count": 81,
   "metadata": {},
   "outputs": [],
   "source": [
    "import pandas as pd\n",
    "import numpy as np\n",
    "import aocd\n",
    "\n",
    "import os\n",
    "\n",
    "os.environ['AOC_SESSION'] = '53616c7465645f5fda624994231306c055524663b055568600cbd7a8e885d012db0c35ac4c420439e127563fce396857'"
   ]
  },
  {
   "cell_type": "markdown",
   "metadata": {},
   "source": [
    "# 1"
   ]
  },
  {
   "cell_type": "code",
   "execution_count": 51,
   "metadata": {},
   "outputs": [],
   "source": [
    "input = np.loadtxt('input1.txt')"
   ]
  },
  {
   "cell_type": "code",
   "execution_count": 19,
   "metadata": {},
   "outputs": [
    {
     "data": {
      "text/plain": [
       "3365459"
      ]
     },
     "execution_count": 19,
     "metadata": {},
     "output_type": "execute_result"
    }
   ],
   "source": [
    "np.sum((input/3 -2).astype(int))"
   ]
  },
  {
   "cell_type": "code",
   "execution_count": 61,
   "metadata": {},
   "outputs": [],
   "source": [
    "def total_fuel_per_module(module_mass):\n",
    "    fuel = np.floor(module_mass/3)-2\n",
    "    total_fuel = fuel\n",
    "    while fuel > 5:\n",
    "        fuel = np.floor(fuel/3) - 2\n",
    "        total_fuel += fuel\n",
    "    return total_fuel"
   ]
  },
  {
   "cell_type": "code",
   "execution_count": 62,
   "metadata": {},
   "outputs": [
    {
     "data": {
      "text/plain": [
       "50346.0"
      ]
     },
     "execution_count": 62,
     "metadata": {},
     "output_type": "execute_result"
    }
   ],
   "source": [
    "total_fuel_per_module(100756)"
   ]
  },
  {
   "cell_type": "code",
   "execution_count": 63,
   "metadata": {},
   "outputs": [
    {
     "data": {
      "text/plain": [
       "5045301.0"
      ]
     },
     "execution_count": 63,
     "metadata": {},
     "output_type": "execute_result"
    }
   ],
   "source": [
    "np.sum([total_fuel_per_module(fuel) for fuel in input])"
   ]
  },
  {
   "cell_type": "markdown",
   "metadata": {},
   "source": [
    "# 2"
   ]
  },
  {
   "cell_type": "code",
   "execution_count": 39,
   "metadata": {},
   "outputs": [],
   "source": [
    "from aocd.models import Puzzle"
   ]
  },
  {
   "cell_type": "code",
   "execution_count": 40,
   "metadata": {},
   "outputs": [],
   "source": [
    "puzzle = Puzzle(year=2019, day=2)\n",
    "\n",
    "puzzle_input_data =  np.array(puzzle.input_data.split(',')).astype(int)"
   ]
  },
  {
   "cell_type": "code",
   "execution_count": 56,
   "metadata": {},
   "outputs": [
    {
     "data": {
      "text/plain": [
       "array([  1,   0,   0,   3,   1,   1,   2,   3,   1,   3,   4,   3,   1,\n",
       "         5,   0,   3,   2,  13,   1,  19,   1,   5,  19,  23,   2,  10,\n",
       "        23,  27,   1,  27,   5,  31,   2,   9,  31,  35,   1,  35,   5,\n",
       "        39,   2,   6,  39,  43,   1,  43,   5,  47,   2,  47,  10,  51,\n",
       "         2,  51,   6,  55,   1,   5,  55,  59,   2,  10,  59,  63,   1,\n",
       "        63,   6,  67,   2,  67,   6,  71,   1,  71,   5,  75,   1,  13,\n",
       "        75,  79,   1,   6,  79,  83,   2,  83,  13,  87,   1,  87,   6,\n",
       "        91,   1,  10,  91,  95,   1,  95,   9,  99,   2,  99,  13, 103,\n",
       "         1, 103,   6, 107,   2, 107,   6, 111,   1, 111,   2, 115,   1,\n",
       "       115,  13,   0,  99,   2,   0,  14,   0])"
      ]
     },
     "execution_count": 56,
     "metadata": {},
     "output_type": "execute_result"
    }
   ],
   "source": [
    "puzzle_input_data"
   ]
  },
  {
   "cell_type": "code",
   "execution_count": 57,
   "metadata": {},
   "outputs": [],
   "source": [
    "def run_opcode(input_array, index):\n",
    "    opcode = input_array[index]\n",
    "    if opcode == 99:\n",
    "        return \"stop\"\n",
    "    index_number_one = input_array[index+1]\n",
    "    index_number_two = input_array[index+2]\n",
    "    write_location = input_array[index+3]\n",
    "    \n",
    "    if opcode == 1:\n",
    "        input_array[write_location] = input_array[index_number_one] + input_array[index_number_two]\n",
    "        return \"continue\"\n",
    "    if opcode == 2:\n",
    "        input_array[write_location] = input_array[index_number_one] * input_array[index_number_two]\n",
    "        return \"continue\"\n",
    "\n",
    "def run_Intcode(input_array):\n",
    "    status = \"continue\"\n",
    "    index = 0\n",
    "    while status == \"continue\":\n",
    "        status = run_opcode(input_array, index)\n",
    "        index += 4\n",
    "    return input_array"
   ]
  },
  {
   "cell_type": "code",
   "execution_count": 26,
   "metadata": {},
   "outputs": [
    {
     "data": {
      "text/plain": [
       "array([ 2,  0,  0,  0, 99])"
      ]
     },
     "execution_count": 26,
     "metadata": {},
     "output_type": "execute_result"
    }
   ],
   "source": [
    "run_Intcode(np.array([1,0,0,0,99]))"
   ]
  },
  {
   "cell_type": "code",
   "execution_count": 49,
   "metadata": {},
   "outputs": [
    {
     "data": {
      "text/plain": [
       "array([3500,    9,   10,   70,    2,    3,   11,    0,   99,   30,   40,\n",
       "         50])"
      ]
     },
     "execution_count": 49,
     "metadata": {},
     "output_type": "execute_result"
    }
   ],
   "source": [
    "run_Intcode(np.array([1,9,10,3,\n",
    "2,3,11,0,\n",
    "99,\n",
    "30,40,50]))"
   ]
  },
  {
   "cell_type": "code",
   "execution_count": 30,
   "metadata": {},
   "outputs": [
    {
     "data": {
      "text/plain": [
       "array([30,  1,  1,  4,  2,  5,  6,  0, 99])"
      ]
     },
     "execution_count": 30,
     "metadata": {},
     "output_type": "execute_result"
    }
   ],
   "source": [
    "run_Intcode(np.array([1,1,1,4,99,5,6,0,99]))"
   ]
  },
  {
   "cell_type": "code",
   "execution_count": 58,
   "metadata": {},
   "outputs": [],
   "source": [
    "input_data = puzzle_input_data.copy()"
   ]
  },
  {
   "cell_type": "code",
   "execution_count": 61,
   "metadata": {},
   "outputs": [
    {
     "data": {
      "text/plain": [
       "array([  1,   0,   0,   3,   1,   1,   2,   3,   1,   3,   4,   3,   1,\n",
       "         5,   0,   3,   2,  13,   1,  19,   1,   5,  19,  23,   2,  10,\n",
       "        23,  27,   1,  27,   5,  31,   2,   9,  31,  35,   1,  35,   5,\n",
       "        39,   2,   6,  39,  43,   1,  43,   5,  47,   2,  47,  10,  51,\n",
       "         2,  51,   6,  55,   1,   5,  55,  59,   2,  10,  59,  63,   1,\n",
       "        63,   6,  67,   2,  67,   6,  71,   1,  71,   5,  75,   1,  13,\n",
       "        75,  79,   1,   6,  79,  83,   2,  83,  13,  87,   1,  87,   6,\n",
       "        91,   1,  10,  91,  95,   1,  95,   9,  99,   2,  99,  13, 103,\n",
       "         1, 103,   6, 107,   2, 107,   6, 111,   1, 111,   2, 115,   1,\n",
       "       115,  13,   0,  99,   2,   0,  14,   0])"
      ]
     },
     "execution_count": 61,
     "metadata": {},
     "output_type": "execute_result"
    }
   ],
   "source": [
    "puzzle_input_data"
   ]
  },
  {
   "cell_type": "code",
   "execution_count": 78,
   "metadata": {},
   "outputs": [],
   "source": [
    "def search_output(input_array, desired_state, max_grid_size = 100):\n",
    "    \n",
    "    noun = 0\n",
    "    verb = 0\n",
    "    \n",
    "    initial_array = input_array.copy()\n",
    "    \n",
    "    for i in np.arange(max_grid_size):\n",
    "        for j in np.arange(max_grid_size):\n",
    "            try_array = initial_array.copy()\n",
    "            try_array[1] = i\n",
    "            try_array[2] = j\n",
    "            try_array = run_Intcode(try_array)\n",
    "            if try_array[0] == desired_state:\n",
    "                \n",
    "                noun = i\n",
    "                verb = j\n",
    "                break\n",
    "    return (noun, verb)\n",
    "\n",
    "def part_two_answer(desired_state):\n",
    "    \n",
    "    verb, noun = search_output(puzzle_input_data, desired_state, 80)\n",
    "    \n",
    "    return 100*verb + noun"
   ]
  },
  {
   "cell_type": "code",
   "execution_count": 79,
   "metadata": {},
   "outputs": [
    {
     "data": {
      "text/plain": [
       "1202"
      ]
     },
     "execution_count": 79,
     "metadata": {},
     "output_type": "execute_result"
    }
   ],
   "source": [
    "part_two_answer(4714701)"
   ]
  },
  {
   "cell_type": "code",
   "execution_count": 80,
   "metadata": {},
   "outputs": [
    {
     "data": {
      "text/plain": [
       "5121"
      ]
     },
     "execution_count": 80,
     "metadata": {},
     "output_type": "execute_result"
    }
   ],
   "source": [
    "part_two_answer(19690720)"
   ]
  },
  {
   "cell_type": "code",
   "execution_count": 71,
   "metadata": {},
   "outputs": [
    {
     "data": {
      "text/plain": [
       "(12, 2)"
      ]
     },
     "execution_count": 71,
     "metadata": {},
     "output_type": "execute_result"
    }
   ],
   "source": [
    "search_output(puzzle_input_data, 4714701)"
   ]
  },
  {
   "cell_type": "code",
   "execution_count": 65,
   "metadata": {},
   "outputs": [
    {
     "data": {
      "text/plain": [
       "array([  1,   0,   0,   3,   1,   1,   2,   3,   1,   3,   4,   3,   1,\n",
       "         5,   0,   3,   2,  13,   1,  19,   1,   5,  19,  23,   2,  10,\n",
       "        23,  27,   1,  27,   5,  31,   2,   9,  31,  35,   1,  35,   5,\n",
       "        39,   2,   6,  39,  43,   1,  43,   5,  47,   2,  47,  10,  51,\n",
       "         2,  51,   6,  55,   1,   5,  55,  59,   2,  10,  59,  63,   1,\n",
       "        63,   6,  67,   2,  67,   6,  71,   1,  71,   5,  75,   1,  13,\n",
       "        75,  79,   1,   6,  79,  83,   2,  83,  13,  87,   1,  87,   6,\n",
       "        91,   1,  10,  91,  95,   1,  95,   9,  99,   2,  99,  13, 103,\n",
       "         1, 103,   6, 107,   2, 107,   6, 111,   1, 111,   2, 115,   1,\n",
       "       115,  13,   0,  99,   2,   0,  14,   0])"
      ]
     },
     "execution_count": 65,
     "metadata": {},
     "output_type": "execute_result"
    }
   ],
   "source": [
    "puzzle_input_data"
   ]
  },
  {
   "cell_type": "code",
   "execution_count": 74,
   "metadata": {},
   "outputs": [
    {
     "data": {
      "text/plain": [
       "(51, 21)"
      ]
     },
     "execution_count": 74,
     "metadata": {},
     "output_type": "execute_result"
    }
   ],
   "source": [
    "search_output(puzzle_input_data, 19690720)"
   ]
  },
  {
   "cell_type": "code",
   "execution_count": null,
   "metadata": {},
   "outputs": [],
   "source": []
  }
 ],
 "metadata": {
  "kernelspec": {
   "display_name": "Python 3",
   "language": "python",
   "name": "python3"
  },
  "language_info": {
   "codemirror_mode": {
    "name": "ipython",
    "version": 3
   },
   "file_extension": ".py",
   "mimetype": "text/x-python",
   "name": "python",
   "nbconvert_exporter": "python",
   "pygments_lexer": "ipython3",
   "version": "3.7.3"
  }
 },
 "nbformat": 4,
 "nbformat_minor": 4
}
