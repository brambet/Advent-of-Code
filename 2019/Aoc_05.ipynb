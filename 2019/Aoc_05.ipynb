{
 "cells": [
  {
   "cell_type": "code",
   "execution_count": 1,
   "metadata": {},
   "outputs": [],
   "source": [
    "import pandas as pd\n",
    "import numpy as np\n",
    "import aocd\n",
    "import timeit\n",
    "import os\n",
    "from aocd.models import Puzzle\n",
    "os.environ['AOC_SESSION'] = '53616c7465645f5fda624994231306c055524663b055568600cbd7a8e885d012db0c35ac4c420439e127563fce396857'"
   ]
  },
  {
   "cell_type": "code",
   "execution_count": 2,
   "metadata": {},
   "outputs": [],
   "source": [
    "puzzle = Puzzle(year=2019, day=5)"
   ]
  },
  {
   "cell_type": "code",
   "execution_count": 3,
   "metadata": {},
   "outputs": [],
   "source": [
    "#puzzle.input_data"
   ]
  },
  {
   "cell_type": "code",
   "execution_count": 206,
   "metadata": {},
   "outputs": [],
   "source": [
    "def get_digit(number, n):\n",
    "    return number // 10**n % 10\n",
    "\n",
    "def get_opcode_and_modes(opcode_input):\n",
    "    opcode_string = str(opcode_input)\n",
    "    \n",
    "    opcode = opcode_input % 100\n",
    "    mode1 = get_digit(opcode_input, 2)\n",
    "    mode2 = get_digit(opcode_input, 3)\n",
    "    mode3 = get_digit(opcode_input, 4)\n",
    "\n",
    "    return opcode, mode1, mode2, mode3\n",
    "\n",
    "\n",
    "def get_parameter_value(input_array, pointer, mode1):\n",
    "    \n",
    "    parameter1 = input_array[pointer+1]\n",
    "    \n",
    "    if mode1: \n",
    "        parameter_value1 = parameter1\n",
    "    else:\n",
    "        parameter_value1 = input_array[parameter1]\n",
    "\n",
    "    return parameter1, parameter_value1\n",
    "\n",
    "\n",
    "def get_parameter_values(input_array, pointer, mode1, mode2):\n",
    "    \n",
    "    parameter1 = input_array[pointer+1]\n",
    "    \n",
    "    if mode1: \n",
    "        parameter_value1 = parameter1\n",
    "    else:\n",
    "        parameter_value1 = input_array[parameter1]\n",
    "    \n",
    "    parameter2 = input_array[pointer+2]\n",
    "    \n",
    "    if mode2: \n",
    "        parameter_value2 = parameter2\n",
    "    else:\n",
    "        parameter_value2 = input_array[parameter2]\n",
    "    \n",
    "    return parameter1, parameter_value1, parameter2, parameter_value2\n",
    "\n",
    "\n",
    "def run_opcode99(input_array, pointer, mode1, mode2):\n",
    "    #pointer = -99\n",
    "    return -1\n",
    "\n",
    "\n",
    "def run_opcode1(input_array, pointer, mode1, mode2):\n",
    "    parameter1, parameter_value1, parameter2, parameter_value2 = get_parameter_values(input_array, pointer, mode1, mode2)\n",
    "    write_location = input_array[pointer+3]\n",
    "    input_array[write_location] = parameter_value1 + parameter_value2\n",
    "    #pointer += 4\n",
    "    return pointer + 4\n",
    "\n",
    "\n",
    "def run_opcode2(input_array, pointer, mode1, mode2):\n",
    "    parameter1, parameter_value1, parameter2, parameter_value2 = get_parameter_values(input_array, pointer, mode1, mode2)\n",
    "    write_location = input_array[pointer+3]\n",
    "    input_array[write_location] = parameter_value1 * parameter_value2\n",
    "    #pointer += 4\n",
    "    return pointer + 4\n",
    "\n",
    "\n",
    "def run_opcode3(input_array, pointer, mode1, mode2, input_value):\n",
    "    if input_value is None:\n",
    "        input_value = input(\"Give input:\") \n",
    "    write_location = input_array[pointer+1]\n",
    "    input_array[write_location] = input_value\n",
    "    #pointer += 4\n",
    "    return pointer + 2\n",
    "\n",
    "\n",
    "def run_opcode4(input_array, pointer, mode1, mode2):\n",
    "    parameter1, parameter_value1 = get_parameter_value(input_array, pointer, mode1)\n",
    "    print(parameter_value1)\n",
    "    #pointer += 2\n",
    "    return pointer + 2\n",
    "\n",
    "\n",
    "def run_opcode5(input_array, pointer, mode1, mode2):\n",
    "    parameter1, parameter_value1, parameter2, parameter_value2 = get_parameter_values(input_array, pointer, mode1, mode2)\n",
    "    #print(\"opcode 5, parameters:\")\n",
    "    #print(parameter1, parameter_value1, parameter2, parameter_value2)\n",
    "    if parameter_value1 != 0:\n",
    "        #pointer = parameter_value2\n",
    "        return parameter_value2\n",
    "    else:\n",
    "        #print('strange pointer')\n",
    "        #pointer += 4\n",
    "        return pointer+3\n",
    "\n",
    "\n",
    "def run_opcode6(input_array, pointer, mode1, mode2):\n",
    "    parameter1, parameter_value1, parameter2, parameter_value2 = get_parameter_values(input_array, pointer, mode1, mode2)\n",
    "    #print(\"opcode 6, parameters:\")\n",
    "    #print(parameter1, parameter_value1, parameter2, parameter_value2)\n",
    "    if parameter_value1 == 0:\n",
    "        #print('parameter value 1 is zero')\n",
    "        #print(parameter1)\n",
    "        #pointer = parameter_value2\n",
    "        return parameter_value2\n",
    "    else:\n",
    "        #pointer += 4\n",
    "        return pointer+3\n",
    "\n",
    "    \n",
    "def run_opcode7(input_array, pointer, mode1, mode2):\n",
    "    parameter1, parameter_value1, parameter2, parameter_value2 = get_parameter_values(input_array, pointer, mode1, mode2)\n",
    "    write_location = input_array[pointer+3]\n",
    "    if parameter_value1 < parameter_value2:\n",
    "        input_array[write_location] = 1\n",
    "    else: \n",
    "        input_array[write_location] = 0\n",
    "    \n",
    "    #pointer += 4\n",
    "    return pointer + 4\n",
    "    \n",
    "\n",
    "def run_opcode8(input_array, pointer, mode1, mode2):\n",
    "    parameter1, parameter_value1, parameter2, parameter_value2 = get_parameter_values(input_array, pointer, mode1, mode2)\n",
    "    write_location = input_array[pointer+3]\n",
    "    if parameter_value1 == parameter_value2:\n",
    "        input_array[write_location] = 1\n",
    "    else: \n",
    "        input_array[write_location] = 0\n",
    "    #pointer += 4\n",
    "    return pointer + 4\n",
    "\n",
    "   \n",
    "    \n",
    "def run_opcode(input_array, pointer, input_value=None, print_opcode=False):\n",
    "    \n",
    "    opcode, mode1, mode2, mode3 = get_opcode_and_modes(input_array[pointer])\n",
    "    \n",
    "    if print_opcode:\n",
    "        print(opcode)\n",
    "    \n",
    "    if opcode == 99:\n",
    "        return run_opcode99(input_array, pointer, mode1, mode2)\n",
    "\n",
    "    elif opcode == 1:\n",
    "        return run_opcode1(input_array, pointer, mode1, mode2)\n",
    "    \n",
    "    elif opcode == 2:\n",
    "        return run_opcode2(input_array, pointer, mode1, mode2)\n",
    "    \n",
    "    elif opcode == 3:\n",
    "        return run_opcode3(input_array, pointer, mode1, mode2, input_value)\n",
    "    \n",
    "    elif opcode == 4:\n",
    "        return run_opcode4(input_array, pointer, mode1, mode2)\n",
    "    \n",
    "    elif opcode == 5:\n",
    "        return run_opcode5(input_array, pointer, mode1, mode2)\n",
    "    \n",
    "    elif opcode == 6:\n",
    "        return run_opcode6(input_array, pointer, mode1, mode2)\n",
    "    \n",
    "    elif opcode == 7:\n",
    "        return run_opcode7(input_array, pointer, mode1, mode2)\n",
    "    \n",
    "    elif opcode == 8:\n",
    "        return run_opcode8(input_array, pointer, mode1, mode2)\n",
    "\n",
    "    else:\n",
    "        print('unknown opcode')\n",
    "\n",
    "\n",
    "def run_Intcode(inp_array, input_value=None, print_opcodes=False):\n",
    "    \n",
    "    input_array = inp_array.copy()\n",
    "    \n",
    "    pointer = 0\n",
    "    while pointer > -1:\n",
    "        #print(pointer)\n",
    "        pointer = run_opcode(input_array, pointer, input_value, print_opcodes)\n",
    "        \n",
    "        #index += 4\n",
    "    return input_array"
   ]
  },
  {
   "cell_type": "code",
   "execution_count": 207,
   "metadata": {},
   "outputs": [
    {
     "data": {
      "text/plain": [
       "array([ 2,  0,  0,  0, 99])"
      ]
     },
     "execution_count": 207,
     "metadata": {},
     "output_type": "execute_result"
    }
   ],
   "source": [
    "run_Intcode(np.array([1,0,0,0,99]), print_opcodes=False)"
   ]
  },
  {
   "cell_type": "code",
   "execution_count": 208,
   "metadata": {},
   "outputs": [
    {
     "data": {
      "text/plain": [
       "4714701"
      ]
     },
     "execution_count": 208,
     "metadata": {},
     "output_type": "execute_result"
    }
   ],
   "source": [
    "# check correct output on day 2\n",
    "puzzle = Puzzle(year=2019, day=2)\n",
    "puzzle_input_data =  np.array(puzzle.input_data.split(',')).astype(int)\n",
    "puzzle_input_data[1] = 12\n",
    "puzzle_input_data[2] = 2\n",
    "run_Intcode(puzzle_input_data)[0]"
   ]
  },
  {
   "cell_type": "code",
   "execution_count": 209,
   "metadata": {},
   "outputs": [],
   "source": [
    "puzzle = Puzzle(year=2019, day=5)"
   ]
  },
  {
   "cell_type": "code",
   "execution_count": 210,
   "metadata": {},
   "outputs": [],
   "source": [
    "puzzle.input_data\n",
    "puzzle_input_data =  np.array(puzzle.input_data.split(',')).astype(int)"
   ]
  },
  {
   "cell_type": "code",
   "execution_count": 211,
   "metadata": {},
   "outputs": [
    {
     "name": "stdout",
     "output_type": "stream",
     "text": [
      "0\n",
      "0\n",
      "0\n",
      "0\n",
      "0\n",
      "0\n",
      "0\n",
      "0\n",
      "0\n",
      "6761139\n"
     ]
    }
   ],
   "source": [
    "out_array = run_Intcode(puzzle_input_data, input_value=1)"
   ]
  },
  {
   "cell_type": "code",
   "execution_count": 212,
   "metadata": {},
   "outputs": [
    {
     "name": "stdout",
     "output_type": "stream",
     "text": [
      "0\n"
     ]
    }
   ],
   "source": [
    "run_Intcode(np.array([3,9,8,9,10,9,4,9,99,-1,8]), input_value=9);"
   ]
  },
  {
   "cell_type": "code",
   "execution_count": 213,
   "metadata": {},
   "outputs": [
    {
     "name": "stdout",
     "output_type": "stream",
     "text": [
      "1\n"
     ]
    }
   ],
   "source": [
    "run_Intcode(np.array([3,3,1107,-1,8,3,4,3,99]),input_value = -10);"
   ]
  },
  {
   "cell_type": "code",
   "execution_count": 214,
   "metadata": {},
   "outputs": [
    {
     "name": "stdout",
     "output_type": "stream",
     "text": [
      "0\n"
     ]
    }
   ],
   "source": [
    "run_Intcode(np.array([3,12,6,12,15,1,13,14,13,4,13,99,-1,0,1,9]), input_value = 0, print_opcodes=False);"
   ]
  },
  {
   "cell_type": "code",
   "execution_count": 215,
   "metadata": {},
   "outputs": [
    {
     "name": "stdout",
     "output_type": "stream",
     "text": [
      "0\n"
     ]
    }
   ],
   "source": [
    "run_Intcode(np.array([3,3,1105,-1,9,1101,0,0,12,4,12,99,1]), input_value =0, print_opcodes=False);"
   ]
  },
  {
   "cell_type": "code",
   "execution_count": 216,
   "metadata": {},
   "outputs": [
    {
     "name": "stdout",
     "output_type": "stream",
     "text": [
      "0\n"
     ]
    },
    {
     "data": {
      "text/plain": [
       "array([ 3,  9,  7,  9, 10,  9,  4,  9, 99,  0,  8])"
      ]
     },
     "execution_count": 216,
     "metadata": {},
     "output_type": "execute_result"
    }
   ],
   "source": [
    "run_Intcode(np.array([3,9,7,9,10,9,4,9,99,-1,8]), input_value  = 9)"
   ]
  },
  {
   "cell_type": "code",
   "execution_count": 217,
   "metadata": {},
   "outputs": [],
   "source": [
    "test_array_new = np.array([3,21,1008,21,8,20,1005,20,22,107,8,21,20,1006,20,31,\n",
    "1106,0,36,98,0,0,1002,21,125,20,4,20,1105,1,46,104,\n",
    "999,1105,1,46,1101,1000,1,20,4,20,1105,1,46,98,99])"
   ]
  },
  {
   "cell_type": "code",
   "execution_count": 218,
   "metadata": {},
   "outputs": [
    {
     "name": "stdout",
     "output_type": "stream",
     "text": [
      "1001\n"
     ]
    }
   ],
   "source": [
    "run_Intcode(test_array_new, input_value = 9);"
   ]
  },
  {
   "cell_type": "code",
   "execution_count": 219,
   "metadata": {},
   "outputs": [
    {
     "name": "stdout",
     "output_type": "stream",
     "text": [
      "9217546\n"
     ]
    }
   ],
   "source": [
    "run_Intcode(puzzle_input_data, input_value = 5);"
   ]
  },
  {
   "cell_type": "code",
   "execution_count": 223,
   "metadata": {},
   "outputs": [],
   "source": [
    "from Intcode import *"
   ]
  },
  {
   "cell_type": "code",
   "execution_count": 225,
   "metadata": {},
   "outputs": [],
   "source": [
    "intcodecomputer = IntcodeComputer(program=puzzle_input_data)"
   ]
  },
  {
   "cell_type": "code",
   "execution_count": 226,
   "metadata": {},
   "outputs": [
    {
     "data": {
      "text/plain": [
       "[9217546]"
      ]
     },
     "execution_count": 226,
     "metadata": {},
     "output_type": "execute_result"
    }
   ],
   "source": [
    "intcodecomputer.run_program(input_values=[5])"
   ]
  },
  {
   "cell_type": "markdown",
   "metadata": {},
   "source": [
    "# write code to script"
   ]
  },
  {
   "cell_type": "code",
   "execution_count": 220,
   "metadata": {},
   "outputs": [
    {
     "name": "stdout",
     "output_type": "stream",
     "text": [
      "Writing Intcode.py\n"
     ]
    }
   ],
   "source": [
    "%%writefile Intcode.py\n",
    "def get_digit(number, n):\n",
    "    return number // 10**n % 10\n",
    "\n",
    "def get_opcode_and_modes(opcode_input):\n",
    "    opcode_string = str(opcode_input)\n",
    "    \n",
    "#     if len(opcode_string) < 5:\n",
    "#         opcode_string = opcode_string.zfill(5)\n",
    "    \n",
    "#     opcode = int(opcode_string[3:5])\n",
    "#     mode1 = int(opcode_string[2])\n",
    "#     mode2 = int(opcode_string[1])\n",
    "#     mode3 = int(opcode_string[0])\n",
    "\n",
    "    opcode = opcode_input % 100\n",
    "    mode1 = get_digit(opcode_input, 2)\n",
    "    mode2 = get_digit(opcode_input, 3)\n",
    "    mode3 = get_digit(opcode_input, 4)\n",
    "\n",
    "\n",
    "    return opcode, mode1, mode2, mode3\n",
    "\n",
    "\n",
    "def get_parameter_value(input_array, pointer, mode1):\n",
    "    \n",
    "    parameter1 = input_array[pointer+1]\n",
    "    \n",
    "    if mode1: \n",
    "        parameter_value1 = parameter1\n",
    "    else:\n",
    "        parameter_value1 = input_array[parameter1]\n",
    "\n",
    "    return parameter1, parameter_value1\n",
    "\n",
    "\n",
    "def get_parameter_values(input_array, pointer, mode1, mode2):\n",
    "    \n",
    "    parameter1 = input_array[pointer+1]\n",
    "    \n",
    "    if mode1: \n",
    "        parameter_value1 = parameter1\n",
    "    else:\n",
    "        parameter_value1 = input_array[parameter1]\n",
    "    \n",
    "    parameter2 = input_array[pointer+2]\n",
    "    \n",
    "    if mode2: \n",
    "        parameter_value2 = parameter2\n",
    "    else:\n",
    "        parameter_value2 = input_array[parameter2]\n",
    "    \n",
    "    return parameter1, parameter_value1, parameter2, parameter_value2\n",
    "\n",
    "\n",
    "def run_opcode99(input_array, pointer, mode1, mode2):\n",
    "    #pointer = -99\n",
    "    return -1\n",
    "\n",
    "\n",
    "def run_opcode1(input_array, pointer, mode1, mode2):\n",
    "    parameter1, parameter_value1, parameter2, parameter_value2 = get_parameter_values(input_array, pointer, mode1, mode2)\n",
    "    write_location = input_array[pointer+3]\n",
    "    input_array[write_location] = parameter_value1 + parameter_value2\n",
    "    #pointer += 4\n",
    "    return pointer + 4\n",
    "\n",
    "\n",
    "def run_opcode2(input_array, pointer, mode1, mode2):\n",
    "    parameter1, parameter_value1, parameter2, parameter_value2 = get_parameter_values(input_array, pointer, mode1, mode2)\n",
    "    write_location = input_array[pointer+3]\n",
    "    input_array[write_location] = parameter_value1 * parameter_value2\n",
    "    #pointer += 4\n",
    "    return pointer + 4\n",
    "\n",
    "\n",
    "def run_opcode3(input_array, pointer, mode1, mode2, input_value):\n",
    "    if input_value is None:\n",
    "        input_value = input(\"Give input:\") \n",
    "    write_location = input_array[pointer+1]\n",
    "    input_array[write_location] = input_value\n",
    "    #pointer += 4\n",
    "    return pointer + 2\n",
    "\n",
    "\n",
    "def run_opcode4(input_array, pointer, mode1, mode2):\n",
    "    parameter1, parameter_value1 = get_parameter_value(input_array, pointer, mode1)\n",
    "    print(parameter_value1)\n",
    "    #pointer += 2\n",
    "    return pointer + 2\n",
    "\n",
    "\n",
    "def run_opcode5(input_array, pointer, mode1, mode2):\n",
    "    parameter1, parameter_value1, parameter2, parameter_value2 = get_parameter_values(input_array, pointer, mode1, mode2)\n",
    "    #print(\"opcode 5, parameters:\")\n",
    "    #print(parameter1, parameter_value1, parameter2, parameter_value2)\n",
    "    if parameter_value1 != 0:\n",
    "        #pointer = parameter_value2\n",
    "        return parameter_value2\n",
    "    else:\n",
    "        #print('strange pointer')\n",
    "        #pointer += 4\n",
    "        return pointer+3\n",
    "\n",
    "\n",
    "def run_opcode6(input_array, pointer, mode1, mode2):\n",
    "    parameter1, parameter_value1, parameter2, parameter_value2 = get_parameter_values(input_array, pointer, mode1, mode2)\n",
    "    #print(\"opcode 6, parameters:\")\n",
    "    #print(parameter1, parameter_value1, parameter2, parameter_value2)\n",
    "    if parameter_value1 == 0:\n",
    "        #print('parameter value 1 is zero')\n",
    "        #print(parameter1)\n",
    "        #pointer = parameter_value2\n",
    "        return parameter_value2\n",
    "    else:\n",
    "        #pointer += 4\n",
    "        return pointer+3\n",
    "\n",
    "    \n",
    "def run_opcode7(input_array, pointer, mode1, mode2):\n",
    "    parameter1, parameter_value1, parameter2, parameter_value2 = get_parameter_values(input_array, pointer, mode1, mode2)\n",
    "    write_location = input_array[pointer+3]\n",
    "    if parameter_value1 < parameter_value2:\n",
    "        input_array[write_location] = 1\n",
    "    else: \n",
    "        input_array[write_location] = 0\n",
    "    \n",
    "    #pointer += 4\n",
    "    return pointer + 4\n",
    "    \n",
    "\n",
    "def run_opcode8(input_array, pointer, mode1, mode2):\n",
    "    parameter1, parameter_value1, parameter2, parameter_value2 = get_parameter_values(input_array, pointer, mode1, mode2)\n",
    "    write_location = input_array[pointer+3]\n",
    "    if parameter_value1 == parameter_value2:\n",
    "        input_array[write_location] = 1\n",
    "    else: \n",
    "        input_array[write_location] = 0\n",
    "    #pointer += 4\n",
    "    return pointer + 4\n",
    "\n",
    "   \n",
    "    \n",
    "def run_opcode(input_array, pointer, input_value=None, print_opcode=False):\n",
    "    \n",
    "    opcode, mode1, mode2, mode3 = get_opcode_and_modes(input_array[pointer])\n",
    "    \n",
    "    if print_opcode:\n",
    "        print(opcode)\n",
    "    \n",
    "    if opcode == 99:\n",
    "        return run_opcode99(input_array, pointer, mode1, mode2)\n",
    "\n",
    "    elif opcode == 1:\n",
    "        return run_opcode1(input_array, pointer, mode1, mode2)\n",
    "    \n",
    "    elif opcode == 2:\n",
    "        return run_opcode2(input_array, pointer, mode1, mode2)\n",
    "    \n",
    "    elif opcode == 3:\n",
    "        return run_opcode3(input_array, pointer, mode1, mode2, input_value)\n",
    "    \n",
    "    elif opcode == 4:\n",
    "        return run_opcode4(input_array, pointer, mode1, mode2)\n",
    "    \n",
    "    elif opcode == 5:\n",
    "        return run_opcode5(input_array, pointer, mode1, mode2)\n",
    "    \n",
    "    elif opcode == 6:\n",
    "        return run_opcode6(input_array, pointer, mode1, mode2)\n",
    "    \n",
    "    elif opcode == 7:\n",
    "        return run_opcode7(input_array, pointer, mode1, mode2)\n",
    "    \n",
    "    elif opcode == 8:\n",
    "        return run_opcode8(input_array, pointer, mode1, mode2)\n",
    "\n",
    "    else:\n",
    "        print('unknown opcode')\n",
    "\n",
    "\n",
    "def run_Intcode(inp_array, input_value=None, print_opcodes=False):\n",
    "    \n",
    "    input_array = inp_array.copy()\n",
    "    \n",
    "    pointer = 0\n",
    "    while pointer > -1:\n",
    "        #print(pointer)\n",
    "        pointer = run_opcode(input_array, pointer, input_value, print_opcodes)\n",
    "        \n",
    "        #index += 4\n",
    "    return input_array"
   ]
  },
  {
   "cell_type": "code",
   "execution_count": null,
   "metadata": {},
   "outputs": [],
   "source": []
  },
  {
   "cell_type": "markdown",
   "metadata": {},
   "source": [
    "# 3 back up"
   ]
  },
  {
   "cell_type": "code",
   "execution_count": 192,
   "metadata": {
    "jupyter": {
     "source_hidden": true
    }
   },
   "outputs": [],
   "source": [
    "def get_digit(number, n):\n",
    "    return number // 10**n % 10\n",
    "\n",
    "def get_opcode_and_modes(opcode_input):\n",
    "    opcode_string = str(opcode_input)\n",
    "    \n",
    "#     if len(opcode_string) < 5:\n",
    "#         opcode_string = opcode_string.zfill(5)\n",
    "    \n",
    "#     opcode = int(opcode_string[3:5])\n",
    "#     mode1 = int(opcode_string[2])\n",
    "#     mode2 = int(opcode_string[1])\n",
    "#     mode3 = int(opcode_string[0])\n",
    "\n",
    "    opcode = opcode_input % 100\n",
    "    mode1 = get_digit(opcode_input, 2)\n",
    "    mode2 = get_digit(opcode_input, 3)\n",
    "    mode3 = get_digit(opcode_input, 4)\n",
    "\n",
    "\n",
    "    return opcode, mode1, mode2, mode3\n",
    "\n",
    "\n",
    "def get_parameter_value(input_array, pointer, mode1):\n",
    "    \n",
    "    parameter1 = input_array[pointer+1]\n",
    "    \n",
    "    if mode1: \n",
    "        parameter_value1 = parameter1\n",
    "    else:\n",
    "        parameter_value1 = input_array[parameter1]\n",
    "\n",
    "    return parameter1, parameter_value1\n",
    "\n",
    "\n",
    "def get_parameter_values(input_array, pointer, mode1, mode2):\n",
    "    \n",
    "    parameter1 = input_array[pointer+1]\n",
    "    \n",
    "    if mode1: \n",
    "        parameter_value1 = parameter1\n",
    "    else:\n",
    "        parameter_value1 = input_array[parameter1]\n",
    "    \n",
    "    parameter2 = input_array[pointer+2]\n",
    "    \n",
    "    if mode2: \n",
    "        parameter_value2 = parameter2\n",
    "    else:\n",
    "        parameter_value2 = input_array[parameter2]\n",
    "    \n",
    "    return parameter1, parameter_value1, parameter2, parameter_value2\n",
    "\n",
    "\n",
    "def run_opcode99(input_array, pointer, mode1, mode2):\n",
    "    #pointer = -99\n",
    "    return -1\n",
    "\n",
    "\n",
    "def run_opcode1(input_array, pointer, mode1, mode2):\n",
    "    parameter1, parameter_value1, parameter2, parameter_value2 = get_parameter_values(input_array, pointer, mode1, mode2)\n",
    "    write_location = input_array[pointer+3]\n",
    "    input_array[write_location] = parameter_value1 + parameter_value2\n",
    "    #pointer += 4\n",
    "    return pointer + 4\n",
    "\n",
    "\n",
    "def run_opcode2(input_array, pointer, mode1, mode2):\n",
    "    parameter1, parameter_value1, parameter2, parameter_value2 = get_parameter_values(input_array, pointer, mode1, mode2)\n",
    "    write_location = input_array[pointer+3]\n",
    "    input_array[write_location] = parameter_value1 * parameter_value2\n",
    "    #pointer += 4\n",
    "    return pointer + 4\n",
    "\n",
    "\n",
    "def run_opcode3(input_array, pointer, mode1, mode2, input_value):\n",
    "    if input_value is None:\n",
    "        input_value = input(\"Give input:\") \n",
    "    write_location = input_array[pointer+1]\n",
    "    input_array[write_location] = input_value\n",
    "    #pointer += 4\n",
    "    return pointer + 2\n",
    "\n",
    "\n",
    "def run_opcode4(input_array, pointer, mode1, mode2):\n",
    "    parameter1, parameter_value1 = get_parameter_value(input_array, pointer, mode1)\n",
    "    print(parameter_value1)\n",
    "    #pointer += 2\n",
    "    return pointer + 2\n",
    "\n",
    "\n",
    "def run_opcode5(input_array, pointer, mode1, mode2):\n",
    "    parameter1, parameter_value1, parameter2, parameter_value2 = get_parameter_values(input_array, pointer, mode1, mode2)\n",
    "    #print(\"opcode 5, parameters:\")\n",
    "    #print(parameter1, parameter_value1, parameter2, parameter_value2)\n",
    "    if parameter_value1 != 0:\n",
    "        #pointer = parameter_value2\n",
    "        return parameter_value2\n",
    "    else:\n",
    "        #print('strange pointer')\n",
    "        #pointer += 4\n",
    "        return pointer+3\n",
    "\n",
    "\n",
    "def run_opcode6(input_array, pointer, mode1, mode2):\n",
    "    parameter1, parameter_value1, parameter2, parameter_value2 = get_parameter_values(input_array, pointer, mode1, mode2)\n",
    "    #print(\"opcode 6, parameters:\")\n",
    "    #print(parameter1, parameter_value1, parameter2, parameter_value2)\n",
    "    if parameter_value1 == 0:\n",
    "        #print('parameter value 1 is zero')\n",
    "        #print(parameter1)\n",
    "        #pointer = parameter_value2\n",
    "        return parameter_value2\n",
    "    else:\n",
    "        #pointer += 4\n",
    "        return pointer+3\n",
    "\n",
    "    \n",
    "def run_opcode7(input_array, pointer, mode1, mode2):\n",
    "    parameter1, parameter_value1, parameter2, parameter_value2 = get_parameter_values(input_array, pointer, mode1, mode2)\n",
    "    write_location = input_array[pointer+3]\n",
    "    if parameter_value1 < parameter_value2:\n",
    "        input_array[write_location] = 1\n",
    "    else: \n",
    "        input_array[write_location] = 0\n",
    "    \n",
    "    #pointer += 4\n",
    "    return pointer + 4\n",
    "    \n",
    "\n",
    "def run_opcode8(input_array, pointer, mode1, mode2):\n",
    "    parameter1, parameter_value1, parameter2, parameter_value2 = get_parameter_values(input_array, pointer, mode1, mode2)\n",
    "    write_location = input_array[pointer+3]\n",
    "    if parameter_value1 == parameter_value2:\n",
    "        input_array[write_location] = 1\n",
    "    else: \n",
    "        input_array[write_location] = 0\n",
    "    #pointer += 4\n",
    "    return pointer + 4\n",
    "\n",
    "   \n",
    "    \n",
    "def run_opcode(input_array, pointer, input_value=None, print_opcode=False):\n",
    "    \n",
    "    opcode, mode1, mode2, mode3 = get_opcode_and_modes(input_array[pointer])\n",
    "    \n",
    "    if print_opcode:\n",
    "        print(opcode)\n",
    "    \n",
    "    if opcode == 99:\n",
    "        return run_opcode99(input_array, pointer, mode1, mode2)\n",
    "\n",
    "    elif opcode == 1:\n",
    "        return run_opcode1(input_array, pointer, mode1, mode2)\n",
    "    \n",
    "    elif opcode == 2:\n",
    "        return run_opcode2(input_array, pointer, mode1, mode2)\n",
    "    \n",
    "    elif opcode == 3:\n",
    "        return run_opcode3(input_array, pointer, mode1, mode2, input_value)\n",
    "    \n",
    "    elif opcode == 4:\n",
    "        return run_opcode4(input_array, pointer, mode1, mode2)\n",
    "    \n",
    "    elif opcode == 5:\n",
    "        return run_opcode5(input_array, pointer, mode1, mode2)\n",
    "    \n",
    "    elif opcode == 6:\n",
    "        return run_opcode6(input_array, pointer, mode1, mode2)\n",
    "    \n",
    "    elif opcode == 7:\n",
    "        return run_opcode7(input_array, pointer, mode1, mode2)\n",
    "    \n",
    "    elif opcode == 8:\n",
    "        return run_opcode8(input_array, pointer, mode1, mode2)\n",
    "\n",
    "    else:\n",
    "        print('unknown opcode')\n",
    "\n",
    "\n",
    "def run_Intcode(inp_array, input_value=None, print_opcodes=False):\n",
    "    \n",
    "    input_array = inp_array.copy()\n",
    "    \n",
    "    pointer = 0\n",
    "    while pointer > -1:\n",
    "        #print(pointer)\n",
    "        pointer = run_opcode(input_array, pointer, input_value, print_opcodes)\n",
    "        \n",
    "        #index += 4\n",
    "    return input_array"
   ]
  }
 ],
 "metadata": {
  "kernelspec": {
   "display_name": "Python 3",
   "language": "python",
   "name": "python3"
  },
  "language_info": {
   "codemirror_mode": {
    "name": "ipython",
    "version": 3
   },
   "file_extension": ".py",
   "mimetype": "text/x-python",
   "name": "python",
   "nbconvert_exporter": "python",
   "pygments_lexer": "ipython3",
   "version": "3.7.3"
  }
 },
 "nbformat": 4,
 "nbformat_minor": 4
}
