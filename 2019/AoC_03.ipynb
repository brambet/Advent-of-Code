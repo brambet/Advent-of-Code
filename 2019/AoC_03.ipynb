{
 "cells": [
  {
   "cell_type": "code",
   "execution_count": 201,
   "metadata": {},
   "outputs": [],
   "source": [
    "import pandas as pd\n",
    "import numpy as np\n",
    "import aocd\n",
    "import timeit\n",
    "import os\n",
    "from aocd.models import Puzzle\n",
    "os.environ['AOC_SESSION'] = '53616c7465645f5fda624994231306c055524663b055568600cbd7a8e885d012db0c35ac4c420439e127563fce396857'"
   ]
  },
  {
   "cell_type": "code",
   "execution_count": 202,
   "metadata": {},
   "outputs": [],
   "source": [
    "import timeit"
   ]
  },
  {
   "cell_type": "markdown",
   "metadata": {},
   "source": [
    "# 3"
   ]
  },
  {
   "cell_type": "code",
   "execution_count": 138,
   "metadata": {},
   "outputs": [],
   "source": [
    "puzzle = Puzzle(year=2019, day=3)"
   ]
  },
  {
   "cell_type": "code",
   "execution_count": 139,
   "metadata": {},
   "outputs": [],
   "source": [
    "def define_instructions(inp_data):\n",
    "    instructions = inp_data.split('\\n')\n",
    "    instructions = [instruction.split(',') for instruction in instructions]\n",
    "    instructions = [[(move[0], int(move[1:])) for move in instruction] for instruction in instructions ]\n",
    "    return instructions"
   ]
  },
  {
   "cell_type": "code",
   "execution_count": 140,
   "metadata": {},
   "outputs": [],
   "source": [
    "instructions = define_instructions(puzzle.input_data)"
   ]
  },
  {
   "cell_type": "code",
   "execution_count": 141,
   "metadata": {},
   "outputs": [],
   "source": [
    "test_input= \"\"\"R8,U5,L5,D3\n",
    "U7,R6,D4,L4\"\"\"\n",
    "test_input2 = \"\"\"R75,D30,R83,U83,L12,D49,R71,U7,L72\n",
    "U62,R66,U55,R34,D71,R55,D58,R83\"\"\"\n",
    "test_input3 = \"\"\"R98,U47,R26,D63,R33,U87,L62,D20,R33,U53,R51\n",
    "U98,R91,D20,R16,D67,R40,U7,R15,U6,R7\"\"\""
   ]
  },
  {
   "cell_type": "code",
   "execution_count": 289,
   "metadata": {},
   "outputs": [
    {
     "data": {
      "text/plain": [
       "[[('R', 8), ('U', 5), ('L', 5), ('D', 3)],\n",
       " [('U', 7), ('R', 6), ('D', 4), ('L', 4)]]"
      ]
     },
     "execution_count": 289,
     "metadata": {},
     "output_type": "execute_result"
    }
   ],
   "source": [
    "define_instructions(test_input)"
   ]
  },
  {
   "cell_type": "code",
   "execution_count": 142,
   "metadata": {},
   "outputs": [],
   "source": [
    "test_instructions = define_instructions(test_input)\n",
    "test_instructions2 = define_instructions(test_input2)\n",
    "test_instructions3 = define_instructions(test_input3)"
   ]
  },
  {
   "cell_type": "code",
   "execution_count": 224,
   "metadata": {
    "jupyter": {
     "source_hidden": true
    }
   },
   "outputs": [],
   "source": [
    "# Deprecated: np matrix way of mapping\n",
    "x_0 = 1000\n",
    "y_0 = 1000\n",
    "N_grid = 2 * x_0 \n",
    "\n",
    "def matrix_mapping(wire_map, instruction):\n",
    "    \n",
    "    x = x_0\n",
    "    y = y_0\n",
    "    \n",
    "    for direction, step_size in instruction:\n",
    "        \n",
    "        if direction is 'U':\n",
    "            wire_map[x , y + 1 : y + step_size + 1] += 1\n",
    "            y = y + step_size\n",
    "        elif direction is 'D':\n",
    "            wire_map[x , y - step_size : y ] += 1\n",
    "            y = y - step_size\n",
    "        elif direction is 'R':\n",
    "            wire_map[x + 1 : x + step_size + 1 , y] += 1\n",
    "            x = x + step_size\n",
    "        elif direction is 'L':\n",
    "            wire_map[x - step_size : x, y] += 1\n",
    "            x = x - step_size\n",
    "        \n",
    "    return wire_map\n",
    "\n",
    "def total_wire_mapping(instructions):\n",
    "    \n",
    "    wire_map = np.zeros((N_grid,N_grid))\n",
    "    \n",
    "    for instruction in instructions:\n",
    "        wire_map = matrix_mapping(wire_map, instruction)\n",
    "\n",
    "    return wire_map\n",
    "\n",
    "\n",
    "def get_closest_manhattan(instructions):\n",
    "    \n",
    "    wire_map = total_wire_mapping(instructions)\n",
    "    wire_map[x_0,y_0] = 0\n",
    "    \n",
    "    crossings = np.argwhere(wire_map > 1)\n",
    "    #for x,y in crossings:\n",
    "        #print(abs(x-x_0))\n",
    "        #print(abs(y-y_0))\n",
    "    closest = min([(abs(x-x_0) + abs(y-y_0)) for x,y in crossings])\n",
    "    \n",
    "    return closest\n",
    "\n",
    "def get_closest_manhattan2(instructions):\n",
    "    \n",
    "    wiremap_1 = matrix_mapping(np.zeros((N_grid,N_grid)), instructions[0])\n",
    "    wiremap_2 = matrix_mapping(np.zeros((N_grid,N_grid)), instructions[1])\n",
    "    \n",
    "    wiremap_total = wiremap_1 + wiremap_2\n",
    "    \n",
    "    wiremap_total[x_0,y_0] = 0\n",
    "    \n",
    "    crossings = np.argwhere(wiremap_total > 1)\n",
    "    \n",
    "    closest = min([(abs(x-x_0) + abs(y-y_0)) for x,y in crossings])\n",
    "    \n",
    "    return closest"
   ]
  },
  {
   "cell_type": "code",
   "execution_count": 321,
   "metadata": {},
   "outputs": [],
   "source": [
    "# def wire_mapping_old(instruction):\n",
    "#     x = 0\n",
    "#     y = 0\n",
    "    \n",
    "#     wire_map = []\n",
    "    \n",
    "#     for direction, step_size in instruction:\n",
    "#         if direction is 'U':\n",
    "#             for step in np.arange(step_size):\n",
    "#                 wire_map.append((x, y + step + 1))\n",
    "#             y = y + step_size\n",
    "#         elif direction is 'D':\n",
    "#             for step in np.arange(step_size):\n",
    "#                 wire_map.append((x, y - step - 1))\n",
    "#             y = y - step_size\n",
    "#         elif direction is 'R':\n",
    "#             for step in np.arange(step_size):\n",
    "#                 wire_map.append((x + step + 1, y))\n",
    "#             x = x + step_size\n",
    "#         elif direction is 'L':\n",
    "#             for step in np.arange(step_size):\n",
    "#                 wire_map.append((x - step - 1, y))\n",
    "#             x = x - step_size\n",
    "        \n",
    "#     return wire_map\n",
    "\n",
    "def step(x,y,direction):\n",
    "    if direction is 'U':\n",
    "        return x, y + 1\n",
    "    elif direction is 'D':\n",
    "        return x, y - 1\n",
    "    elif direction is 'R':\n",
    "        return x + 1, y\n",
    "    elif direction is 'L':\n",
    "        return x - 1, y\n",
    "\n",
    "    \n",
    "def wire_mapping(instruction):\n",
    "    \n",
    "    x = 0\n",
    "    y = 0\n",
    "    wire_map = [(0,0)]\n",
    "    \n",
    "    for direction, step_size in instruction:\n",
    "        for i in np.arange(1,step_size+1):\n",
    "            x,y = step(x,y,direction)\n",
    "            wire_map.append((x,y))\n",
    "\n",
    "    # remove self crossings\n",
    "    wire_map = list(set(wire_map))\n",
    "            \n",
    "    return wire_map\n",
    "\n",
    "\n",
    "def two_wire_mapping(instructions):\n",
    "    \n",
    "    wire_map = []\n",
    "    \n",
    "    for instruction in instructions:\n",
    "        wire_map += wire_mapping(instruction)\n",
    "    \n",
    "    return wire_map\n",
    "\n",
    "def get_closest_manhattan(instructions):\n",
    "    \n",
    "    wire_map = two_wire_mapping(instructions)\n",
    "    \n",
    "    #print(f\"wire map of length {len(wire_map)}\")\n",
    "    \n",
    "    crossings = [key for key, count in Counter(wire_map).items() if count > 1]\n",
    "    \n",
    "    print(crossings)\n",
    "    \n",
    "    crossings.remove((0,0))\n",
    "    \n",
    "    manhattan_distances = [(abs(x) + abs(y)) for x,y in crossings]\n",
    "    \n",
    "    if len(manhattan_distances):\n",
    "        return min(manhattan_distances)\n",
    "    \n",
    "    else:\n",
    "        return \"No crossing found!\"\n",
    "\n",
    "def get_closest_manhattan_from_input(input_string):\n",
    "    \n",
    "    instructions = define_instructions(input_string)\n",
    "    \n",
    "    return get_closest_manhattan(instructions)\n",
    "\n",
    "def get_crossings(instructions):\n",
    "    \n",
    "    wire_map = two_wire_mapping(instructions)\n",
    "    \n",
    "    #print(f\"wire map of length {len(wire_map)}\")\n",
    "    \n",
    "    crossings = [key for key, count in Counter(wire_map).items() if count > 1]\n",
    "\n",
    "    return crossings\n",
    "    \n",
    "def steps_to_crossing(instruction, crossing):\n",
    "    x=0\n",
    "    y=0\n",
    "    steps = 0\n",
    "    for direction, step_size in instruction:\n",
    "        for i in np.arange(1,step_size+1):\n",
    "            x,y = step(x,y,direction)\n",
    "            steps += 1\n",
    "            #print((x,y))\n",
    "            #print(crossing)\n",
    "            if (x,y) == crossing:\n",
    "                #print('crossing reached')\n",
    "                return steps\n",
    "\n",
    "def get_combined_steps(instructions):\n",
    "    \n",
    "    crossings = get_crossings(instructions)\n",
    "    crossings.remove((0,0))\n",
    "    #print(crossings)\n",
    "    steps_to_crossings = []\n",
    "    \n",
    "    steps_to_crossings = [[steps_to_crossing(instruction, crossing) for instruction in instructions] for crossing in crossings]\n",
    "      \n",
    "    return min([steps1 + steps2 for steps1,steps2 in steps_to_crossings])    \n",
    "    #return steps_to_crossings"
   ]
  },
  {
   "cell_type": "code",
   "execution_count": 297,
   "metadata": {},
   "outputs": [
    {
     "name": "stdout",
     "output_type": "stream",
     "text": [
      "[(3, 3), (0, 0), (6, 5)]\n",
      "6\n",
      "Time:  0.0002712890000111656\n",
      "[(155, 11), (0, 0), (155, 4), (146, 46), (158, -12)]\n",
      "159\n",
      "Time:  0.0008396049997827504\n",
      "[(0, 0), (107, 47), (124, 11), (107, 51), (107, 71), (157, 18)]\n",
      "135\n",
      "Time:  0.0006973620002099779\n",
      "[(970, 1387), (2546, 1383), (3385, 1259), (2326, 1383), (0, 0), (4503, 1752), (1403, 1850), (970, 1159), (2511, 1383), (4052, 1974), (3791, 1598), (4303, 1752), (1906, 1428), (3791, 1974), (2072, 1383), (1381, 1428), (1381, 1565), (2487, 1383)]\n",
      "2129\n",
      "Time:  0.31303882999964117\n"
     ]
    }
   ],
   "source": [
    "start = timeit.default_timer()\n",
    "\n",
    "print(get_closest_manhattan_from_input(test_input))\n",
    "\n",
    "stop = timeit.default_timer()\n",
    "\n",
    "print('Time: ', stop - start)  \n",
    "\n",
    "start = timeit.default_timer()\n",
    "\n",
    "print(get_closest_manhattan_from_input(test_input2))\n",
    "\n",
    "stop = timeit.default_timer()\n",
    "\n",
    "print('Time: ', stop - start)  \n",
    "\n",
    "start = timeit.default_timer()\n",
    "\n",
    "print(get_closest_manhattan_from_input(test_input3))\n",
    "\n",
    "stop = timeit.default_timer()\n",
    "\n",
    "print('Time: ', stop - start) \n",
    "\n",
    "start = timeit.default_timer()\n",
    "\n",
    "print(get_closest_manhattan_from_input(puzzle.input_data))\n",
    "\n",
    "stop = timeit.default_timer()\n",
    "\n",
    "print('Time: ', stop - start) "
   ]
  },
  {
   "cell_type": "code",
   "execution_count": null,
   "metadata": {},
   "outputs": [],
   "source": []
  },
  {
   "cell_type": "code",
   "execution_count": 322,
   "metadata": {},
   "outputs": [
    {
     "data": {
      "text/plain": [
       "30"
      ]
     },
     "execution_count": 322,
     "metadata": {},
     "output_type": "execute_result"
    }
   ],
   "source": [
    "get_combined_steps(define_instructions(test_input))"
   ]
  },
  {
   "cell_type": "code",
   "execution_count": 304,
   "metadata": {},
   "outputs": [
    {
     "data": {
      "text/plain": [
       "True"
      ]
     },
     "execution_count": 304,
     "metadata": {},
     "output_type": "execute_result"
    }
   ],
   "source": [
    "(3,3) is (3,3)"
   ]
  },
  {
   "cell_type": "code",
   "execution_count": 316,
   "metadata": {},
   "outputs": [
    {
     "name": "stdout",
     "output_type": "stream",
     "text": [
      "crossing reached\n"
     ]
    },
    {
     "data": {
      "text/plain": [
       "20"
      ]
     },
     "execution_count": 316,
     "metadata": {},
     "output_type": "execute_result"
    }
   ],
   "source": [
    "steps_to_crossing(test_instructions[0],(3,3))"
   ]
  },
  {
   "cell_type": "code",
   "execution_count": 325,
   "metadata": {},
   "outputs": [
    {
     "data": {
      "text/plain": [
       "134662"
      ]
     },
     "execution_count": 325,
     "metadata": {},
     "output_type": "execute_result"
    }
   ],
   "source": [
    "get_combined_steps(instructions)"
   ]
  },
  {
   "cell_type": "code",
   "execution_count": null,
   "metadata": {},
   "outputs": [],
   "source": []
  }
 ],
 "metadata": {
  "kernelspec": {
   "display_name": "Python 3",
   "language": "python",
   "name": "python3"
  },
  "language_info": {
   "codemirror_mode": {
    "name": "ipython",
    "version": 3
   },
   "file_extension": ".py",
   "mimetype": "text/x-python",
   "name": "python",
   "nbconvert_exporter": "python",
   "pygments_lexer": "ipython3",
   "version": "3.7.3"
  }
 },
 "nbformat": 4,
 "nbformat_minor": 4
}
