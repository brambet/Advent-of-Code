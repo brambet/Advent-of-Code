{
 "cells": [
  {
   "cell_type": "code",
   "execution_count": 14,
   "metadata": {},
   "outputs": [],
   "source": [
    "from __future__ import annotations\n",
    "\n",
    "import re\n",
    "from dataclasses import dataclass\n",
    "from typing import Callable, DefaultDict, Dict, List, NamedTuple, Set, Tuple, Union\n",
    "\n",
    "import matplotlib.pyplot as plt\n",
    "from aocd.models import Puzzle\n",
    "from shapely import buffer\n",
    "from shapely.geometry import Polygon, LineString"
   ]
  },
  {
   "cell_type": "code",
   "execution_count": 32,
   "metadata": {},
   "outputs": [],
   "source": [
    "import geopandas as gpd"
   ]
  },
  {
   "cell_type": "code",
   "execution_count": 53,
   "metadata": {},
   "outputs": [],
   "source": [
    "TEST_INPUT = \"\"\"R 6 (#70c710)\n",
    "D 5 (#0dc571)\n",
    "L 2 (#5713f0)\n",
    "D 2 (#d2c081)\n",
    "R 2 (#59c680)\n",
    "D 2 (#411b91)\n",
    "L 5 (#8ceee2)\n",
    "U 2 (#caa173)\n",
    "L 1 (#1b58a2)\n",
    "U 2 (#caa171)\n",
    "R 2 (#7807d2)\n",
    "U 3 (#a77fa3)\n",
    "L 2 (#015232)\n",
    "U 2 (#7a21e3)\"\"\"\n",
    "\n",
    "TEST_INPUT = \"\"\"R 6\n",
    "D 5\n",
    "L 2\n",
    "D 2\n",
    "R 2\n",
    "D 2\n",
    "L 5\n",
    "U 2\n",
    "L 1\n",
    "U 2\n",
    "R 2\n",
    "U 3\n",
    "L 2\n",
    "U 2\"\"\"\n",
    "\n",
    "\n",
    "@dataclass(frozen=True)\n",
    "class Position:\n",
    "    x: int\n",
    "    y: int\n",
    "\n",
    "    @property\n",
    "    def coordinates(self):\n",
    "        return (self.x, self.y)\n",
    "\n",
    "    def step(self, direction: str, size: int = 1) -> Position:\n",
    "        match direction:\n",
    "            case \"U\":\n",
    "                return Position(self.x, self.y + size)\n",
    "            case \"D\":\n",
    "                return Position(self.x, self.y - size)\n",
    "            case \"L\":\n",
    "                return Position(self.x - size, self.y)\n",
    "            case \"R\":\n",
    "                return Position(self.x + size, self.y)\n",
    "            case _:\n",
    "                raise ValueError(\"Unknown direction\")\n",
    "\n",
    "@dataclass\n",
    "class DigPlan:\n",
    "    trench_vertices: List[Position]\n",
    "\n",
    "    @staticmethod\n",
    "    def parse_dig_plan(digplan: str) -> DigPlan:\n",
    "        current_pos = Position(0, 0)\n",
    "\n",
    "        vertices = [current_pos]\n",
    "        for line in digplan.split(\"\\n\"):\n",
    "            direction, length = line.split()\n",
    "            length = int(length)\n",
    "            current_pos = current_pos.step(direction, length)\n",
    "            vertices.append(current_pos)\n",
    "\n",
    "        return DigPlan(vertices)\n",
    "    \n",
    "    @property\n",
    "    def trench_center_line(self):\n",
    "        return LineString([pos.coordinates for pos in self.trench_vertices])\n",
    "    \n",
    "    @property\n",
    "    def trench(self):\n",
    "        \"\"\"Trench is one meter wide, so buffer with 0.5\"\"\"\n",
    "        return buffer(self.trench_center_line, 0.5, join_style=\"mitre\")\n",
    "\n",
    "    def plot_trench(self):\n",
    "        p = gpd.GeoSeries(self.trench)\n",
    "        p.plot()\n",
    "        plt.show()\n",
    "\n",
    "    @property\n",
    "    def inner_roof(self):\n",
    "        return Polygon(self.trench.exterior)\n",
    "    \n",
    "    def plot_inner_roof(self):\n",
    "        p = gpd.GeoSeries(self.inner_roof)\n",
    "        p.plot()\n",
    "        plt.show()"
   ]
  },
  {
   "cell_type": "code",
   "execution_count": 54,
   "metadata": {},
   "outputs": [],
   "source": [
    "dig_plan = DigPlan.parse_dig_plan(TEST_INPUT)"
   ]
  },
  {
   "cell_type": "code",
   "execution_count": 55,
   "metadata": {},
   "outputs": [
    {
     "data": {
      "image/png": "[encoded data removed]",
      "text/plain": [
       "<Figure size 640x480 with 1 Axes>"
      ]
     },
     "metadata": {},
     "output_type": "display_data"
    }
   ],
   "source": [
    "dig_plan.plot_trench()"
   ]
  },
  {
   "cell_type": "code",
   "execution_count": 56,
   "metadata": {},
   "outputs": [
    {
     "data": {
      "image/png": "[encoded data removed]",
      "text/plain": [
       "<Figure size 640x480 with 1 Axes>"
      ]
     },
     "metadata": {},
     "output_type": "display_data"
    }
   ],
   "source": [
    "dig_plan.plot_inner_roof()"
   ]
  },
  {
   "cell_type": "code",
   "execution_count": 57,
   "metadata": {},
   "outputs": [
    {
     "data": {
      "text/plain": [
       "62.0"
      ]
     },
     "execution_count": 57,
     "metadata": {},
     "output_type": "execute_result"
    }
   ],
   "source": [
    "dig_plan.inner_roof.area"
   ]
  },
  {
   "cell_type": "code",
   "execution_count": 48,
   "metadata": {},
   "outputs": [
    {
     "data": {
      "text/plain": [
       "shapely.geometry.polygon.Polygon"
      ]
     },
     "execution_count": 48,
     "metadata": {},
     "output_type": "execute_result"
    }
   ],
   "source": [
    "type(dig_plan.trench)"
   ]
  },
  {
   "cell_type": "code",
   "execution_count": 52,
   "metadata": {},
   "outputs": [
    {
     "data": {
      "image/svg+xml": [
       "<svg xmlns=\"http://www.w3.org/2000/svg\" xmlns:xlink=\"http://www.w3.org/1999/xlink\" width=\"100.0\" height=\"100.0\" viewBox=\"-0.9 -9.9 7.800000000000001 10.8\" preserveAspectRatio=\"xMinYMin meet\"><g transform=\"matrix(1,0,0,-1,0,-9.0)\"><polyline fill=\"none\" stroke=\"#66cc99\" stroke-width=\"0.21600000000000003\" points=\"-0.5,0.5 6.5,0.5 6.5,-5.5 4.5,-5.5 4.5,-6.5 6.5,-6.5 6.5,-9.5 0.5,-9.5 0.5,-7.5 -0.5,-7.5 -0.5,-4.5 1.5,-4.5 1.5,-2.5 -0.5,-2.5 -0.5,0.5\" opacity=\"0.8\" /></g></svg>"
      ],
      "text/plain": [
       "<LINEARRING (-0.5 0.5, 6.5 0.5, 6.5 -5.5, 4.5 -5.5, 4.5 -6.5, 6.5 -6.5, 6.5 ...>"
      ]
     },
     "execution_count": 52,
     "metadata": {},
     "output_type": "execute_result"
    }
   ],
   "source": [
    "dig_plan.trench.exterior"
   ]
  },
  {
   "cell_type": "code",
   "execution_count": 49,
   "metadata": {},
   "outputs": [
    {
     "data": {
      "image/svg+xml": [
       "<svg xmlns=\"http://www.w3.org/2000/svg\" xmlns:xlink=\"http://www.w3.org/1999/xlink\" width=\"100.0\" height=\"100.0\" viewBox=\"-0.9 -9.9 7.800000000000001 10.8\" preserveAspectRatio=\"xMinYMin meet\"><g transform=\"matrix(1,0,0,-1,0,-9.0)\"><path fill-rule=\"evenodd\" fill=\"#66cc99\" stroke=\"#555555\" stroke-width=\"0.21600000000000003\" opacity=\"0.6\" d=\"M -0.5,0.5 L 6.5,0.5 L 6.5,-5.5 L 4.5,-5.5 L 4.5,-6.5 L 6.5,-6.5 L 6.5,-9.5 L 0.5,-9.5 L 0.5,-7.5 L -0.5,-7.5 L -0.5,-4.5 L 1.5,-4.5 L 1.5,-2.5 L -0.5,-2.5 L -0.5,0.5 z\" /></g></svg>"
      ],
      "text/plain": [
       "<POLYGON ((-0.5 0.5, 6.5 0.5, 6.5 -5.5, 4.5 -5.5, 4.5 -6.5, 6.5 -6.5, 6.5 -9...>"
      ]
     },
     "execution_count": 49,
     "metadata": {},
     "output_type": "execute_result"
    }
   ],
   "source": [
    "Polygon(dig_plan.trench.exterior)"
   ]
  },
  {
   "cell_type": "code",
   "execution_count": 38,
   "metadata": {},
   "outputs": [
    {
     "data": {
      "text/plain": [
       "[Position(x=0, y=0),\n",
       " Position(x=6, y=0),\n",
       " Position(x=6, y=-5),\n",
       " Position(x=4, y=-5),\n",
       " Position(x=4, y=-7),\n",
       " Position(x=6, y=-7),\n",
       " Position(x=6, y=-9),\n",
       " Position(x=1, y=-9),\n",
       " Position(x=1, y=-7),\n",
       " Position(x=0, y=-7),\n",
       " Position(x=0, y=-5),\n",
       " Position(x=2, y=-5),\n",
       " Position(x=2, y=-2),\n",
       " Position(x=0, y=-2),\n",
       " Position(x=0, y=0)]"
      ]
     },
     "execution_count": 38,
     "metadata": {},
     "output_type": "execute_result"
    }
   ],
   "source": [
    "dig_plan.trench_vertices"
   ]
  },
  {
   "cell_type": "code",
   "execution_count": null,
   "metadata": {},
   "outputs": [],
   "source": []
  },
  {
   "cell_type": "code",
   "execution_count": 30,
   "metadata": {},
   "outputs": [
    {
     "data": {
      "text/plain": [
       "38.0"
      ]
     },
     "execution_count": 30,
     "metadata": {},
     "output_type": "execute_result"
    }
   ],
   "source": [
    "dig_plan.trench_line.length"
   ]
  },
  {
   "cell_type": "code",
   "execution_count": 34,
   "metadata": {},
   "outputs": [
    {
     "data": {
      "image/png": "[encoded data removed]",
      "text/plain": [
       "<Figure size 640x480 with 1 Axes>"
      ]
     },
     "metadata": {},
     "output_type": "display_data"
    }
   ],
   "source": [
    "p = gpd.GeoSeries(dig_plan.polygon)\n",
    "p.plot()\n",
    "plt.show()"
   ]
  },
  {
   "cell_type": "code",
   "execution_count": 29,
   "metadata": {},
   "outputs": [
    {
     "data": {
      "text/plain": [
       "38.0"
      ]
     },
     "execution_count": 29,
     "metadata": {},
     "output_type": "execute_result"
    }
   ],
   "source": [
    "buffer(dig_plan.trench_line, 0.5, join_style=\"mitre\").area"
   ]
  },
  {
   "cell_type": "code",
   "execution_count": 31,
   "metadata": {},
   "outputs": [
    {
     "data": {
      "text/plain": [
       "62.0"
      ]
     },
     "execution_count": 31,
     "metadata": {},
     "output_type": "execute_result"
    }
   ],
   "source": [
    "dig_plan.polygon.area"
   ]
  },
  {
   "cell_type": "code",
   "execution_count": 16,
   "metadata": {},
   "outputs": [
    {
     "data": {
      "text/plain": [
       "[(0, 0),\n",
       " (6, 0),\n",
       " (6, -5),\n",
       " (4, -5),\n",
       " (4, -7),\n",
       " (6, -7),\n",
       " (6, -9),\n",
       " (1, -9),\n",
       " (1, -7),\n",
       " (0, -7),\n",
       " (0, -5),\n",
       " (2, -5),\n",
       " (2, -2),\n",
       " (0, -2)]"
      ]
     },
     "execution_count": 16,
     "metadata": {},
     "output_type": "execute_result"
    }
   ],
   "source": [
    "[pos.coordinates for pos in dig_plan.trench_vertices.keys()]"
   ]
  },
  {
   "cell_type": "code",
   "execution_count": 2,
   "metadata": {},
   "outputs": [],
   "source": []
  },
  {
   "cell_type": "code",
   "execution_count": 16,
   "metadata": {},
   "outputs": [],
   "source": [
    "with open('input_old.txt', 'r') as f:\n",
    "    orig_inp = f.readlines()\n",
    "\n",
    "new_input = []\n",
    "for line in orig_inp:\n",
    "    direction, length, color = line.split()\n",
    "    new_input.append(f\"{direction} {length}\")\n",
    "\n",
    "new_input = '\\n'.join(new_input)\n",
    "\n",
    "new_input = new_input.replace('U', 'N').replace('D','Z').replace('L', 'W').replace('R', 'O')\n",
    "\n",
    "with open('input.txt', 'w') as f:\n",
    "    f.write(new_input)\n"
   ]
  },
  {
   "cell_type": "code",
   "execution_count": 11,
   "metadata": {},
   "outputs": [],
   "source": [
    "TEST_INPUT = \"\"\"R 6\n",
    "D 5\n",
    "L 2\n",
    "D 2\n",
    "R 2\n",
    "D 2\n",
    "L 5\n",
    "U 2\n",
    "L 1\n",
    "U 2\n",
    "R 2\n",
    "U 3\n",
    "L 2\n",
    "U 2\"\"\""
   ]
  },
  {
   "cell_type": "code",
   "execution_count": 17,
   "metadata": {},
   "outputs": [
    {
     "name": "stdout",
     "output_type": "stream",
     "text": [
      "O 6\n",
      "Z 5\n",
      "W 2\n",
      "Z 2\n",
      "O 2\n",
      "Z 2\n",
      "W 5\n",
      "N 2\n",
      "W 1\n",
      "N 2\n",
      "O 2\n",
      "N 3\n",
      "W 2\n",
      "N 2\n"
     ]
    }
   ],
   "source": [
    "print(TEST_INPUT.replace('U', 'N').replace('D','Z').replace('L', 'W').replace('R', 'O'))"
   ]
  },
  {
   "cell_type": "code",
   "execution_count": null,
   "metadata": {},
   "outputs": [],
   "source": [
    "new_input.replace('U', 'N').replace('D','S').replace('L', 'W').replace('R', 'E')"
   ]
  },
  {
   "cell_type": "code",
   "execution_count": 7,
   "metadata": {},
   "outputs": [],
   "source": [
    "with open('input.txt', 'w') as f:\n",
    "    f.write('\\n'.join(new_input))"
   ]
  },
  {
   "cell_type": "code",
   "execution_count": 14,
   "metadata": {},
   "outputs": [],
   "source": [
    "test_aswer = \"\"\"#######\n",
    "#.....#\n",
    "###...#\n",
    "..#...#\n",
    "..#...#\n",
    "###.###\n",
    "#...#..\n",
    "##..###\n",
    ".#....#\n",
    ".######\"\"\""
   ]
  },
  {
   "cell_type": "code",
   "execution_count": 15,
   "metadata": {},
   "outputs": [
    {
     "data": {
      "text/plain": [
       "38"
      ]
     },
     "execution_count": 15,
     "metadata": {},
     "output_type": "execute_result"
    }
   ],
   "source": [
    "test_aswer.count(\"#\")"
   ]
  },
  {
   "cell_type": "code",
   "execution_count": 18,
   "metadata": {},
   "outputs": [
    {
     "data": {
      "text/plain": [
       "62"
      ]
     },
     "execution_count": 18,
     "metadata": {},
     "output_type": "execute_result"
    }
   ],
   "source": [
    "\"\"\"#######\n",
    "#######\n",
    "#######\n",
    "..#####\n",
    "..#####\n",
    "#######\n",
    "#####..\n",
    "#######\n",
    ".######\n",
    ".######\"\"\".count(\"#\")"
   ]
  },
  {
   "cell_type": "code",
   "execution_count": null,
   "metadata": {},
   "outputs": [],
   "source": []
  }
 ],
 "metadata": {
  "kernelspec": {
   "display_name": "aoc",
   "language": "python",
   "name": "python3"
  },
  "language_info": {
   "codemirror_mode": {
    "name": "ipython",
    "version": 3
   },
   "file_extension": ".py",
   "mimetype": "text/x-python",
   "name": "python",
   "nbconvert_exporter": "python",
   "pygments_lexer": "ipython3",
   "version": "3.11.6"
  }
 },
 "nbformat": 4,
 "nbformat_minor": 2
}
